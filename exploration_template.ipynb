{
 "cells": [
  {
   "cell_type": "markdown",
   "metadata": {},
   "source": [
    "# Ford GoBike System Data Exploration\n",
    "## by Luca(MingCong) Zhou\n",
    "\n",
    "## Preliminary Wrangling\n",
    "\n",
    "This data set includes information about individual rides made in a bike-sharing system covering the greater San Francisco Bay area."
   ]
  },
  {
   "cell_type": "code",
   "execution_count": 25,
   "metadata": {},
   "outputs": [],
   "source": [
    "# import all packages and set plots to be embedded inline\n",
    "import numpy as np\n",
    "import pandas as pd\n",
    "import matplotlib.pyplot as plt\n",
    "import seaborn as sns\n",
    "import requests\n",
    "from io import StringIO\n",
    "from geopy.distance import distance\n",
    "\n",
    "%matplotlib inline"
   ]
  },
  {
   "cell_type": "code",
   "execution_count": 24,
   "metadata": {},
   "outputs": [
    {
     "output_type": "stream",
     "name": "stdout",
     "text": [
      "Collecting geopy\n",
      "  Downloading geopy-2.1.0-py3-none-any.whl (112 kB)\n",
      "\u001b[K     |████████████████████████████████| 112 kB 1.7 MB/s \n",
      "\u001b[?25hCollecting geographiclib<2,>=1.49\n",
      "  Downloading geographiclib-1.50-py3-none-any.whl (38 kB)\n",
      "Installing collected packages: geographiclib, geopy\n",
      "Successfully installed geographiclib-1.50 geopy-2.1.0\n"
     ]
    }
   ],
   "source": [
    "import sys\n",
    "!{sys.executable} -m pip install geopy"
   ]
  },
  {
   "cell_type": "code",
   "execution_count": 4,
   "metadata": {},
   "outputs": [],
   "source": [
    "# Since GitHub does not allow for large file, I decided loading the data from an url\n",
    "file_url = \"https://video.udacity-data.com/topher/2020/October/5f91cf38_201902-fordgobike-tripdata/201902-fordgobike-tripdata.csv\"\n",
    "res = requests.get(file_url)"
   ]
  },
  {
   "cell_type": "code",
   "execution_count": 11,
   "metadata": {},
   "outputs": [],
   "source": [
    "# load the bytes data into pandas dataframe if status code is 200\n",
    "if res.status_code != requests.codes.ok:\n",
    "    print(\"Download Failed!\")\n",
    "\n",
    "s = str(res.content, 'utf-8')\n",
    "data = StringIO(s)\n",
    "df = pd.read_csv(data)"
   ]
  },
  {
   "cell_type": "code",
   "execution_count": 22,
   "metadata": {},
   "outputs": [
    {
     "output_type": "execute_result",
     "data": {
      "text/plain": [
       "        duration_sec                start_time                  end_time  \\\n",
       "177955           377  2019-02-01 18:23:33.4110  2019-02-01 18:29:50.7950   \n",
       "\n",
       "        start_station_id   start_station_name  start_station_latitude  \\\n",
       "177955              26.0  1st St at Folsom St                37.78729   \n",
       "\n",
       "        start_station_longitude  end_station_id  end_station_name  \\\n",
       "177955               -122.39438           321.0  5th St at Folsom   \n",
       "\n",
       "        end_station_latitude  end_station_longitude  bike_id   user_type  \\\n",
       "177955             37.780146            -122.403071     5444  Subscriber   \n",
       "\n",
       "        member_birth_year member_gender bike_share_for_all_trip  \n",
       "177955             1933.0        Female                     Yes  "
      ],
      "text/html": "<div>\n<style scoped>\n    .dataframe tbody tr th:only-of-type {\n        vertical-align: middle;\n    }\n\n    .dataframe tbody tr th {\n        vertical-align: top;\n    }\n\n    .dataframe thead th {\n        text-align: right;\n    }\n</style>\n<table border=\"1\" class=\"dataframe\">\n  <thead>\n    <tr style=\"text-align: right;\">\n      <th></th>\n      <th>duration_sec</th>\n      <th>start_time</th>\n      <th>end_time</th>\n      <th>start_station_id</th>\n      <th>start_station_name</th>\n      <th>start_station_latitude</th>\n      <th>start_station_longitude</th>\n      <th>end_station_id</th>\n      <th>end_station_name</th>\n      <th>end_station_latitude</th>\n      <th>end_station_longitude</th>\n      <th>bike_id</th>\n      <th>user_type</th>\n      <th>member_birth_year</th>\n      <th>member_gender</th>\n      <th>bike_share_for_all_trip</th>\n    </tr>\n  </thead>\n  <tbody>\n    <tr>\n      <th>177955</th>\n      <td>377</td>\n      <td>2019-02-01 18:23:33.4110</td>\n      <td>2019-02-01 18:29:50.7950</td>\n      <td>26.0</td>\n      <td>1st St at Folsom St</td>\n      <td>37.78729</td>\n      <td>-122.39438</td>\n      <td>321.0</td>\n      <td>5th St at Folsom</td>\n      <td>37.780146</td>\n      <td>-122.403071</td>\n      <td>5444</td>\n      <td>Subscriber</td>\n      <td>1933.0</td>\n      <td>Female</td>\n      <td>Yes</td>\n    </tr>\n  </tbody>\n</table>\n</div>"
     },
     "metadata": {},
     "execution_count": 22
    }
   ],
   "source": [
    "# high-level overview of data shape and composition\n",
    "df.sample()"
   ]
  },
  {
   "cell_type": "code",
   "execution_count": 29,
   "metadata": {},
   "outputs": [
    {
     "output_type": "stream",
     "name": "stdout",
     "text": [
      "(183412, 16)\nduration_sec                        int64\nstart_time                 datetime64[ns]\nend_time                   datetime64[ns]\nstart_station_id                  float64\nstart_station_name                 object\nstart_station_latitude            float64\nstart_station_longitude           float64\nend_station_id                    float64\nend_station_name                   object\nend_station_latitude              float64\nend_station_longitude             float64\nbike_id                             int64\nuser_type                          object\nmember_birth_year                 float64\nmember_gender                      object\nbike_share_for_all_trip            object\ndtype: object\nduration_sec                  0\nstart_time                    0\nend_time                      0\nstart_station_id            197\nstart_station_name          197\nstart_station_latitude        0\nstart_station_longitude       0\nend_station_id              197\nend_station_name            197\nend_station_latitude          0\nend_station_longitude         0\nbike_id                       0\nuser_type                     0\nmember_birth_year          8265\nmember_gender              8265\nbike_share_for_all_trip       0\ndtype: int64\n"
     ]
    }
   ],
   "source": [
    "print(df.shape)\n",
    "print(df.dtypes)\n",
    "print(df.isnull().sum())"
   ]
  },
  {
   "source": [
    "### Issues\n",
    "\n",
    "#### Issue 1 Missing Values\n",
    "\n",
    "1. 197 values are missing for features: start_station_id, start_station_name.\n",
    "2. 8265 values are missing for features: member_birth_year and member_gender.\n",
    "\n",
    "#### Solve Issue 1"
   ],
   "cell_type": "markdown",
   "metadata": {}
  },
  {
   "cell_type": "code",
   "execution_count": 30,
   "metadata": {},
   "outputs": [],
   "source": [
    "# drop the rows with null values\n",
    "df.dropna(inplace=True)"
   ]
  },
  {
   "source": [
    "#### Issue 2 Misused Data Types\n",
    "\n",
    "1. start_time, and end_time columns are in string format.\n",
    "2. start_station_id, and member_birth_year columns are in float format.\n",
    "\n",
    "#### Solve Issue 2"
   ],
   "cell_type": "markdown",
   "metadata": {}
  },
  {
   "cell_type": "code",
   "execution_count": 31,
   "metadata": {},
   "outputs": [],
   "source": [
    "# convert the 'start_time' and 'end_time' columns to datetime format\n",
    "df['start_time']= pd.to_datetime(df['start_time'])\n",
    "df['end_time']= pd.to_datetime(df['end_time'])\n",
    "\n",
    "# convert the 'start_station_id' and 'member_birth_year columns to int format\n",
    "df['start_station_id'] = df['start_station_id'].astype('int')\n",
    "df['member_birth_year'] = df['member_birth_year'].astype('int')"
   ]
  },
  {
   "source": [
    "#### Inspect the cleaned dataframe"
   ],
   "cell_type": "markdown",
   "metadata": {}
  },
  {
   "cell_type": "code",
   "execution_count": 32,
   "metadata": {},
   "outputs": [
    {
     "output_type": "stream",
     "name": "stdout",
     "text": [
      "<class 'pandas.core.frame.DataFrame'>\nInt64Index: 174952 entries, 0 to 183411\nData columns (total 16 columns):\n #   Column                   Non-Null Count   Dtype         \n---  ------                   --------------   -----         \n 0   duration_sec             174952 non-null  int64         \n 1   start_time               174952 non-null  datetime64[ns]\n 2   end_time                 174952 non-null  datetime64[ns]\n 3   start_station_id         174952 non-null  int64         \n 4   start_station_name       174952 non-null  object        \n 5   start_station_latitude   174952 non-null  float64       \n 6   start_station_longitude  174952 non-null  float64       \n 7   end_station_id           174952 non-null  float64       \n 8   end_station_name         174952 non-null  object        \n 9   end_station_latitude     174952 non-null  float64       \n 10  end_station_longitude    174952 non-null  float64       \n 11  bike_id                  174952 non-null  int64         \n 12  user_type                174952 non-null  object        \n 13  member_birth_year        174952 non-null  int64         \n 14  member_gender            174952 non-null  object        \n 15  bike_share_for_all_trip  174952 non-null  object        \ndtypes: datetime64[ns](2), float64(5), int64(4), object(5)\nmemory usage: 22.7+ MB\n"
     ]
    }
   ],
   "source": [
    "df.info()"
   ]
  },
  {
   "cell_type": "markdown",
   "metadata": {},
   "source": [
    "### What is the structure of your dataset?\n",
    "\n",
    "There are 183412 rides in the dataset with 16 features (duration_sec, start_time, end_time, start_station_id, start_station_name, start_station_latitude, start_station_longitude, end_station_id, end_station_name, end_station_latitude, end_station_longitude, bike_id, user_type, member_birth_year, member_gender, and bike_share_for_all_trip). \n",
    "\n",
    "Most variables are numeric in nature, but the variables start_station_name, end_station_name, user_type, member_gender and bike_share_for_all_trip are nominal factor variables.\n",
    "\n",
    "### What is/are the main feature(s) of interest in your dataset?\n",
    "\n",
    "I'm most interested in figuring out:\n",
    "\n",
    "1. The average distance of their rides.\n",
    "2. The average speed when they are riding the bikes.\n",
    "3. The most popular location for bike renting.\n",
    "\n",
    "### What features in the dataset do you think will help support your investigation into your feature(s) of interest?\n",
    "\n",
    "To get the distance of a rides, we need to know the starting and ending locations. The features start_station_latitude, start_station_longitude, end_station_latitude, and end_station_longitude are provided in the datasets. These features are bascally two GPS coordinates:\n",
    "\n",
    "```text\n",
    "                                        |\n",
    "                                        |   (x1,y1)\n",
    "                                        |\n",
    "                                        |\n",
    "                                        |                        (x2, y2)\n",
    "                                --------|-----------------------------------------\n",
    "                                        |\n",
    "```\n",
    "\n",
    "Remember, from high school, to find the distance between two coordinates, we can use [Euclid's theorem](https://en.wikipedia.org/wiki/Euclid's_theorem). Nevertheless, since Earth is a sphere, we can not merely apply the theorem here. However, Python has made everything so easy for us. We will use the [geopy](https://github.com/geopy/geopy) library to solve the problem.\n"
   ]
  },
  {
   "cell_type": "code",
   "execution_count": 42,
   "metadata": {},
   "outputs": [],
   "source": [
    "# use geopy to measure distances, store it as a new feature\n",
    "# for your reference: https://geopy.readthedocs.io/en/stable/#module-geopy.distance\n",
    "def getDistance(startCoord, endCoord):\n",
    "    \"\"\"\n",
    "    This function will return the distance (in meter) between two coordinates.\n",
    "\n",
    "    :param[float tuple] startCoord the starting coordinate\n",
    "    :param[float tuple] endCoord the ending coordinate\n",
    "    \"\"\"\n",
    "    return distance(startCoord, endCoord).m"
   ]
  },
  {
   "cell_type": "code",
   "execution_count": 39,
   "metadata": {
    "tags": []
   },
   "outputs": [],
   "source": [
    "distances = list()\n",
    "\n",
    "# calculate distance for all rows\n",
    "for ride in df.itertuples():\n",
    "    startCoord = (ride.start_station_latitude, ride.start_station_longitude)\n",
    "    endCoord = (ride.end_station_latitude, ride.end_station_longitude)\n",
    "    distances.append(getDistance(startCoord, endCoord))\n",
    "\n",
    "df['distance'] = distances"
   ]
  },
  {
   "cell_type": "markdown",
   "metadata": {},
   "source": [
    "## Univariate Exploration\n",
    "\n",
    "> In this section, investigate distributions of individual variables. If\n",
    "you see unusual points or outliers, take a deeper look to clean things up\n",
    "and prepare yourself to look at relationships between variables."
   ]
  },
  {
   "cell_type": "code",
   "execution_count": null,
   "metadata": {},
   "outputs": [],
   "source": []
  },
  {
   "cell_type": "markdown",
   "metadata": {},
   "source": [
    "> Make sure that, after every plot or related series of plots, that you\n",
    "include a Markdown cell with comments about what you observed, and what\n",
    "you plan on investigating next."
   ]
  },
  {
   "cell_type": "code",
   "execution_count": null,
   "metadata": {},
   "outputs": [],
   "source": []
  },
  {
   "cell_type": "markdown",
   "metadata": {},
   "source": [
    "### Discuss the distribution(s) of your variable(s) of interest. Were there any unusual points? Did you need to perform any transformations?\n",
    "\n",
    "> Your answer here!\n",
    "\n",
    "### Of the features you investigated, were there any unusual distributions? Did you perform any operations on the data to tidy, adjust, or change the form of the data? If so, why did you do this?\n",
    "\n",
    "> Your answer here!"
   ]
  },
  {
   "cell_type": "markdown",
   "metadata": {},
   "source": [
    "## Bivariate Exploration\n",
    "\n",
    "> In this section, investigate relationships between pairs of variables in your\n",
    "data. Make sure the variables that you cover here have been introduced in some\n",
    "fashion in the previous section (univariate exploration)."
   ]
  },
  {
   "cell_type": "code",
   "execution_count": null,
   "metadata": {},
   "outputs": [],
   "source": []
  },
  {
   "cell_type": "markdown",
   "metadata": {},
   "source": [
    "### Talk about some of the relationships you observed in this part of the investigation. How did the feature(s) of interest vary with other features in the dataset?\n",
    "\n",
    "> Your answer here!\n",
    "\n",
    "### Did you observe any interesting relationships between the other features (not the main feature(s) of interest)?\n",
    "\n",
    "> Your answer here!"
   ]
  },
  {
   "cell_type": "markdown",
   "metadata": {},
   "source": [
    "## Multivariate Exploration\n",
    "\n",
    "> Create plots of three or more variables to investigate your data even\n",
    "further. Make sure that your investigations are justified, and follow from\n",
    "your work in the previous sections."
   ]
  },
  {
   "cell_type": "code",
   "execution_count": null,
   "metadata": {},
   "outputs": [],
   "source": []
  },
  {
   "cell_type": "markdown",
   "metadata": {},
   "source": [
    "### Talk about some of the relationships you observed in this part of the investigation. Were there features that strengthened each other in terms of looking at your feature(s) of interest?\n",
    "\n",
    "> Your answer here!\n",
    "\n",
    "### Were there any interesting or surprising interactions between features?\n",
    "\n",
    "> Your answer here!"
   ]
  },
  {
   "cell_type": "markdown",
   "metadata": {},
   "source": [
    "> At the end of your report, make sure that you export the notebook as an\n",
    "html file from the `File > Download as... > HTML` menu. Make sure you keep\n",
    "track of where the exported file goes, so you can put it in the same folder\n",
    "as this notebook for project submission. Also, make sure you remove all of\n",
    "the quote-formatted guide notes like this one before you finish your report!"
   ]
  },
  {
   "cell_type": "code",
   "execution_count": null,
   "metadata": {},
   "outputs": [],
   "source": []
  }
 ],
 "metadata": {
  "kernelspec": {
   "display_name": "Python 3",
   "language": "python",
   "name": "python3"
  },
  "language_info": {
   "codemirror_mode": {
    "name": "ipython",
    "version": 3
   },
   "file_extension": ".py",
   "mimetype": "text/x-python",
   "name": "python",
   "nbconvert_exporter": "python",
   "pygments_lexer": "ipython3",
   "version": "3.7.9-final"
  }
 },
 "nbformat": 4,
 "nbformat_minor": 2
}