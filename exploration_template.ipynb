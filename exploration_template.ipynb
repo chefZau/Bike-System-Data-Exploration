{
 "cells": [
  {
   "cell_type": "markdown",
   "metadata": {},
   "source": [
    "# Ford GoBike System Data Exploration\n",
    "## by Luca(MingCong) Zhou\n",
    "\n",
    "## Preliminary Wrangling\n",
    "\n",
    "This data set includes information about individual rides made in a bike-sharing system covering the greater San Francisco Bay area."
   ]
  },
  {
   "cell_type": "code",
   "execution_count": 265,
   "metadata": {},
   "outputs": [],
   "source": [
    "# import all packages and set plots to be embedded inline\n",
    "import numpy as np\n",
    "import pandas as pd\n",
    "import matplotlib.pyplot as plt\n",
    "import seaborn as sns\n",
    "import requests\n",
    "from io import StringIO\n",
    "from geopy.distance import distance\n",
    "import gmaps \n",
    "import gmaps.datasets\n",
    "\n",
    "%matplotlib inline\n",
    "%config Completer.use_jedi = False"
   ]
  },
  {
   "cell_type": "code",
   "execution_count": 2,
   "metadata": {},
   "outputs": [],
   "source": [
    "# Since GitHub does not allow for large file, I decided loading the data from an url\n",
    "file_url = \"https://video.udacity-data.com/topher/2020/October/5f91cf38_201902-fordgobike-tripdata/201902-fordgobike-tripdata.csv\"\n",
    "res = requests.get(file_url)"
   ]
  },
  {
   "cell_type": "code",
   "execution_count": 3,
   "metadata": {},
   "outputs": [],
   "source": [
    "# load the bytes data into pandas dataframe if status code is 200\n",
    "if res.status_code != requests.codes.ok:\n",
    "    print(\"Download Failed!\")\n",
    "\n",
    "s = str(res.content, 'utf-8')\n",
    "data = StringIO(s)\n",
    "df = pd.read_csv(data)"
   ]
  },
  {
   "cell_type": "code",
   "execution_count": 4,
   "metadata": {},
   "outputs": [
    {
     "data": {
      "text/html": [
       "<div>\n",
       "<style scoped>\n",
       "    .dataframe tbody tr th:only-of-type {\n",
       "        vertical-align: middle;\n",
       "    }\n",
       "\n",
       "    .dataframe tbody tr th {\n",
       "        vertical-align: top;\n",
       "    }\n",
       "\n",
       "    .dataframe thead th {\n",
       "        text-align: right;\n",
       "    }\n",
       "</style>\n",
       "<table border=\"1\" class=\"dataframe\">\n",
       "  <thead>\n",
       "    <tr style=\"text-align: right;\">\n",
       "      <th></th>\n",
       "      <th>duration_sec</th>\n",
       "      <th>start_time</th>\n",
       "      <th>end_time</th>\n",
       "      <th>start_station_id</th>\n",
       "      <th>start_station_name</th>\n",
       "      <th>start_station_latitude</th>\n",
       "      <th>start_station_longitude</th>\n",
       "      <th>end_station_id</th>\n",
       "      <th>end_station_name</th>\n",
       "      <th>end_station_latitude</th>\n",
       "      <th>end_station_longitude</th>\n",
       "      <th>bike_id</th>\n",
       "      <th>user_type</th>\n",
       "      <th>member_birth_year</th>\n",
       "      <th>member_gender</th>\n",
       "      <th>bike_share_for_all_trip</th>\n",
       "    </tr>\n",
       "  </thead>\n",
       "  <tbody>\n",
       "    <tr>\n",
       "      <th>115644</th>\n",
       "      <td>358</td>\n",
       "      <td>2019-02-12 08:34:18.2670</td>\n",
       "      <td>2019-02-12 08:40:16.7510</td>\n",
       "      <td>345.0</td>\n",
       "      <td>Hubbell St at 16th St</td>\n",
       "      <td>37.766483</td>\n",
       "      <td>-122.398279</td>\n",
       "      <td>67.0</td>\n",
       "      <td>San Francisco Caltrain Station 2  (Townsend St...</td>\n",
       "      <td>37.776639</td>\n",
       "      <td>-122.395526</td>\n",
       "      <td>643</td>\n",
       "      <td>Subscriber</td>\n",
       "      <td>NaN</td>\n",
       "      <td>NaN</td>\n",
       "      <td>No</td>\n",
       "    </tr>\n",
       "  </tbody>\n",
       "</table>\n",
       "</div>"
      ],
      "text/plain": [
       "        duration_sec                start_time                  end_time  \\\n",
       "115644           358  2019-02-12 08:34:18.2670  2019-02-12 08:40:16.7510   \n",
       "\n",
       "        start_station_id     start_station_name  start_station_latitude  \\\n",
       "115644             345.0  Hubbell St at 16th St               37.766483   \n",
       "\n",
       "        start_station_longitude  end_station_id  \\\n",
       "115644              -122.398279            67.0   \n",
       "\n",
       "                                         end_station_name  \\\n",
       "115644  San Francisco Caltrain Station 2  (Townsend St...   \n",
       "\n",
       "        end_station_latitude  end_station_longitude  bike_id   user_type  \\\n",
       "115644             37.776639            -122.395526      643  Subscriber   \n",
       "\n",
       "        member_birth_year member_gender bike_share_for_all_trip  \n",
       "115644                NaN           NaN                      No  "
      ]
     },
     "execution_count": 4,
     "metadata": {},
     "output_type": "execute_result"
    }
   ],
   "source": [
    "# high-level overview of data shape and composition\n",
    "df.sample()"
   ]
  },
  {
   "cell_type": "code",
   "execution_count": 5,
   "metadata": {},
   "outputs": [
    {
     "name": "stdout",
     "output_type": "stream",
     "text": [
      "(183412, 16)\n",
      "duration_sec                 int64\n",
      "start_time                  object\n",
      "end_time                    object\n",
      "start_station_id           float64\n",
      "start_station_name          object\n",
      "start_station_latitude     float64\n",
      "start_station_longitude    float64\n",
      "end_station_id             float64\n",
      "end_station_name            object\n",
      "end_station_latitude       float64\n",
      "end_station_longitude      float64\n",
      "bike_id                      int64\n",
      "user_type                   object\n",
      "member_birth_year          float64\n",
      "member_gender               object\n",
      "bike_share_for_all_trip     object\n",
      "dtype: object\n",
      "duration_sec                  0\n",
      "start_time                    0\n",
      "end_time                      0\n",
      "start_station_id            197\n",
      "start_station_name          197\n",
      "start_station_latitude        0\n",
      "start_station_longitude       0\n",
      "end_station_id              197\n",
      "end_station_name            197\n",
      "end_station_latitude          0\n",
      "end_station_longitude         0\n",
      "bike_id                       0\n",
      "user_type                     0\n",
      "member_birth_year          8265\n",
      "member_gender              8265\n",
      "bike_share_for_all_trip       0\n",
      "dtype: int64\n"
     ]
    }
   ],
   "source": [
    "print(df.shape)\n",
    "print(df.dtypes)\n",
    "print(df.isnull().sum())"
   ]
  },
  {
   "cell_type": "markdown",
   "metadata": {},
   "source": [
    "### Issues\n",
    "\n",
    "#### Issue 1 Missing Values\n",
    "\n",
    "1. 197 values are missing for features: start_station_id, start_station_name.\n",
    "2. 8265 values are missing for features: member_birth_year and member_gender.\n",
    "\n",
    "#### Solve Issue 1"
   ]
  },
  {
   "cell_type": "code",
   "execution_count": 6,
   "metadata": {},
   "outputs": [],
   "source": [
    "# drop the rows with null values\n",
    "df.dropna(inplace=True)"
   ]
  },
  {
   "cell_type": "markdown",
   "metadata": {},
   "source": [
    "#### Issue 2 Misused Data Types\n",
    "\n",
    "1. start_time, and end_time columns are in string format.\n",
    "2. start_station_id, and member_birth_year columns are in float format.\n",
    "\n",
    "#### Solve Issue 2"
   ]
  },
  {
   "cell_type": "code",
   "execution_count": 7,
   "metadata": {},
   "outputs": [],
   "source": [
    "# convert the 'start_time' and 'end_time' columns to datetime format\n",
    "df['start_time']= pd.to_datetime(df['start_time'])\n",
    "df['end_time']= pd.to_datetime(df['end_time'])\n",
    "\n",
    "# convert the 'start_station_id' and 'member_birth_year columns to int format\n",
    "df['start_station_id'] = df['start_station_id'].astype('int')\n",
    "df['member_birth_year'] = df['member_birth_year'].astype('int')"
   ]
  },
  {
   "cell_type": "markdown",
   "metadata": {},
   "source": [
    "#### Inspect the cleaned dataframe"
   ]
  },
  {
   "cell_type": "code",
   "execution_count": 8,
   "metadata": {},
   "outputs": [
    {
     "name": "stdout",
     "output_type": "stream",
     "text": [
      "<class 'pandas.core.frame.DataFrame'>\n",
      "Int64Index: 174952 entries, 0 to 183411\n",
      "Data columns (total 16 columns):\n",
      " #   Column                   Non-Null Count   Dtype         \n",
      "---  ------                   --------------   -----         \n",
      " 0   duration_sec             174952 non-null  int64         \n",
      " 1   start_time               174952 non-null  datetime64[ns]\n",
      " 2   end_time                 174952 non-null  datetime64[ns]\n",
      " 3   start_station_id         174952 non-null  int64         \n",
      " 4   start_station_name       174952 non-null  object        \n",
      " 5   start_station_latitude   174952 non-null  float64       \n",
      " 6   start_station_longitude  174952 non-null  float64       \n",
      " 7   end_station_id           174952 non-null  float64       \n",
      " 8   end_station_name         174952 non-null  object        \n",
      " 9   end_station_latitude     174952 non-null  float64       \n",
      " 10  end_station_longitude    174952 non-null  float64       \n",
      " 11  bike_id                  174952 non-null  int64         \n",
      " 12  user_type                174952 non-null  object        \n",
      " 13  member_birth_year        174952 non-null  int64         \n",
      " 14  member_gender            174952 non-null  object        \n",
      " 15  bike_share_for_all_trip  174952 non-null  object        \n",
      "dtypes: datetime64[ns](2), float64(5), int64(4), object(5)\n",
      "memory usage: 22.7+ MB\n"
     ]
    }
   ],
   "source": [
    "df.info()"
   ]
  },
  {
   "cell_type": "markdown",
   "metadata": {},
   "source": [
    "### What is the structure of your dataset?\n",
    "\n",
    "There are 183412 rides in the dataset with 16 features (``duration_sec``, ``start_time``, ``end_time``, ``start_station_id``, ``start_station_name``, ``start_station_latitude``, ``start_station_longitude``, ``end_station_id``, ``end_station_name``, ``end_station_latitude``, ``end_station_longitude``, ``bike_id``, ``user_type``, ``member_birth_year``, ``member_gender``, and ``bike_share_for_all_trip``). \n",
    "\n",
    "Most variables are numeric in nature, but the variables ``start_station_name``, ``end_station_name``, ``user_type``, ``member_gender`` and ``bike_share_for_all_trip`` are nominal factor variables.\n",
    "\n",
    "### What is/are the main feature(s) of interest in your dataset?\n",
    "\n",
    "I'm most interested in figuring out:\n",
    "\n",
    "1. How far do people usually bike when they are using our shared bicycles?\n",
    "2. How long does the average trip take?\n",
    "3. When are most trips taken in terms of the time of day?\n",
    "4. Does the above depend on if a user is a subscriber or customer?\n",
    "\n",
    "### What features in the dataset do you think will help support your investigation into your feature(s) of interest?\n",
    "\n",
    "1. The ``latitude`` and ``longitude`` features in the dataset can help us locate the two locations. Since they are coordinates, we can get the distance quickly by using geopy.\n",
    "2. Subtract ``start_time`` with ``end_time``.\n",
    "3. The ``start_time`` feature in the dataset representing the starting time. However, time can either be **categorical** or **quantitative** depending on our condition(hours, seasons, years)\n",
    "4. Group by ``user_type``, and compare statistics.\n"
   ]
  },
  {
   "cell_type": "markdown",
   "metadata": {},
   "source": [
    "## Univariate Exploration\n",
    "\n",
    "\n",
    "### How far do people usually bike when they are using our shared bicycles?\n",
    "\n",
    "To get the distance of rides, we need to know the starting and ending locations. The features ``start_station_latitude``, ``start_station_longitude``, ``end_station_latitude``, and ``end_station_longitude`` are provided in the datasets. These features are two GPS coordinates:\n",
    "\n",
    "```text\n",
    "                                        |\n",
    "                                        |   (x1,y1)\n",
    "                                        |\n",
    "                                        |\n",
    "                                        |                        (x2, y2)\n",
    "                                --------|-----------------------------------------\n",
    "                                        |\n",
    "```\n",
    "\n",
    "Remember, from high school, to find the distance between two coordinates, we can use [Euclid's theorem](https://en.wikipedia.org/wiki/Euclid's_theorem). Nevertheless, since Earth is a sphere, we can not merely apply the theorem here. However, Python has made everything so easy for us. We will use the [geopy](https://github.com/geopy/geopy) library to solve the problem.\n"
   ]
  },
  {
   "cell_type": "code",
   "execution_count": 26,
   "metadata": {},
   "outputs": [],
   "source": [
    "# use geopy to measure distances, store it as a new feature\n",
    "# for your reference: https://geopy.readthedocs.io/en/stable/#module-geopy.distance\n",
    "def getDistance(startCoord, endCoord):\n",
    "    \"\"\"\n",
    "    This function will return the distance (in km) between two coordinates.\n",
    "\n",
    "    :param[float tuple] startCoord the starting coordinate\n",
    "    :param[float tuple] endCoord the ending coordinate\n",
    "    :return float, the distance between two coordinates\n",
    "    \"\"\"\n",
    "    return distance(startCoord, endCoord).km"
   ]
  },
  {
   "cell_type": "code",
   "execution_count": 27,
   "metadata": {
    "tags": []
   },
   "outputs": [],
   "source": [
    "distances = list()\n",
    "\n",
    "# calculate distance for all rows\n",
    "for ride in df.itertuples():\n",
    "    startCoord = (ride.start_station_latitude, ride.start_station_longitude)\n",
    "    endCoord = (ride.end_station_latitude, ride.end_station_longitude)\n",
    "    distances.append(getDistance(startCoord, endCoord))\n",
    "\n",
    "df['distance'] = distances"
   ]
  },
  {
   "cell_type": "markdown",
   "metadata": {},
   "source": [
    "Now we have the distances. Why don't we go one step further, calculate the speed? As we all know from primary school math, we can use the following formula to calculate the speed:\n",
    "\n",
    "$$Speed = \\frac{Distance}{Time}$$\n",
    "\n",
    "The elapsed time can be retrieved by subtracting the ``start_time`` with the ``end_time`` feature. Yes, we have everything we need now."
   ]
  },
  {
   "cell_type": "code",
   "execution_count": 101,
   "metadata": {},
   "outputs": [],
   "source": [
    "def diffInHour(endTime, startTime):\n",
    "    \"\"\"\n",
    "    Calculate the difference between two datetime object\n",
    "\n",
    "    :param[datetime64] endTime the ending time\n",
    "    :param[datetime64] startTime the starting time\n",
    "    :return float, difference in hours\n",
    "    \"\"\"\n",
    "    return (endTime - startTime) / np.timedelta64(1, \"h\")"
   ]
  },
  {
   "cell_type": "code",
   "execution_count": 29,
   "metadata": {},
   "outputs": [],
   "source": [
    "diffs = list()\n",
    "\n",
    "# calculate elapsed time for all rows\n",
    "for ride in df.itertuples():\n",
    "    diff = diffInHour(ride.end_time, ride.start_time)\n",
    "    diffs.append(diff)\n",
    "\n",
    "df['duration'] = diffs\n",
    "df['speed'] = df['distance'] / df['duration']"
   ]
  },
  {
   "cell_type": "code",
   "execution_count": 155,
   "metadata": {},
   "outputs": [
    {
     "data": {
      "image/png": "[encoded data removed]",
      "text/plain": [
       "<Figure size 720x432 with 1 Axes>"
      ]
     },
     "metadata": {
      "needs_background": "light"
     },
     "output_type": "display_data"
    }
   ],
   "source": [
    "# start with distance\n",
    "plt.figure(figsize=[10, 6])\n",
    "\n",
    "bins = np.arange(0, 10 + 0.1, 0.1)\n",
    "\n",
    "plt.hist(data=df, x='distance', bins= bins)\n",
    "\n",
    "# add ticks for x axis\n",
    "xticks = np.arange(0, 10 + 1, 1)\n",
    "plt.xticks(xticks)\n",
    "\n",
    "# add ticks for y axis\n",
    "yticks = np.arange(1000, 10000, 1000)\n",
    "ylabel = ['{}k'.format(el // 1000) for el in yticks]\n",
    "plt.yticks(yticks, ylabel)\n",
    "\n",
    "# zoom in. there are outliers in the df\n",
    "plt.xlim([0.1, 10])\n",
    "\n",
    "# add title and label\n",
    "plt.title(\"Distance of Rides\")\n",
    "plt.xlabel(\"Kilometre\")\n",
    "plt.ylabel(\"Count\")\n",
    "\n",
    "# add a vertical line for median\n",
    "med = df.distance.median()\n",
    "plt.axvline(x=med, color='k', linestyle='--', label=\"median at {:.2f}\".format(med))\n",
    "\n",
    "plt.legend()\n",
    "\n",
    "plt.show()"
   ]
  },
  {
   "cell_type": "markdown",
   "metadata": {},
   "source": [
    "Since the ``distance`` feature is a quantitative continuous variable, a histogram can be applied for its visualization. As we can see on the above graph, there are a few peaks and valleys; Yet there are two main ones. Therefore, it is a **bimodal histogram**. \n",
    "\n",
    "A vertical line that represents the median has been added to the graph. The line tells us half of our users choose to use our shared bicycles when the trip is less than 1.43 kilometers. As the distance increases, the user's count using the shared bicycles gradually decreases on the vertical line's right. Therefore, the ``distance`` feature has a **right-skewed** distribution. By analogy, people tend to move out from our shared bicycles when the distance to a location is more significant than 1.43 kilometers.\n",
    "\n",
    "During the building of the above visulization, some surprises on the dataset were found.\n",
    "\n",
    "1. As we can see in the data frame below, this lady biked 70 kilometers in 1.93 hours. The calculated time is around 5 hours and 19 minutes on Google Map for this trip. The event should consider as a miracle for her."
   ]
  },
  {
   "cell_type": "code",
   "execution_count": 91,
   "metadata": {},
   "outputs": [
    {
     "data": {
      "text/html": [
       "<div>\n",
       "<style scoped>\n",
       "    .dataframe tbody tr th:only-of-type {\n",
       "        vertical-align: middle;\n",
       "    }\n",
       "\n",
       "    .dataframe tbody tr th {\n",
       "        vertical-align: top;\n",
       "    }\n",
       "\n",
       "    .dataframe thead th {\n",
       "        text-align: right;\n",
       "    }\n",
       "</style>\n",
       "<table border=\"1\" class=\"dataframe\">\n",
       "  <thead>\n",
       "    <tr style=\"text-align: right;\">\n",
       "      <th></th>\n",
       "      <th>start_station_name</th>\n",
       "      <th>end_station_name</th>\n",
       "      <th>member_gender</th>\n",
       "      <th>distance</th>\n",
       "      <th>duration</th>\n",
       "    </tr>\n",
       "  </thead>\n",
       "  <tbody>\n",
       "    <tr>\n",
       "      <th>112038</th>\n",
       "      <td>Montgomery St BART Station (Market St at 2nd St)</td>\n",
       "      <td>Palm St at Willow St</td>\n",
       "      <td>Female</td>\n",
       "      <td>69.465977</td>\n",
       "      <td>1.929377</td>\n",
       "    </tr>\n",
       "  </tbody>\n",
       "</table>\n",
       "</div>"
      ],
      "text/plain": [
       "                                      start_station_name  \\\n",
       "112038  Montgomery St BART Station (Market St at 2nd St)   \n",
       "\n",
       "            end_station_name member_gender   distance  duration  \n",
       "112038  Palm St at Willow St        Female  69.465977  1.929377  "
      ]
     },
     "execution_count": 91,
     "metadata": {},
     "output_type": "execute_result"
    }
   ],
   "source": [
    "df.query(\"distance >= 69\")[['start_station_name', 'end_station_name', 'member_gender', 'distance', 'duration']]"
   ]
  },
  {
   "cell_type": "markdown",
   "metadata": {},
   "source": [
    "Since the above row's distance is a bias, the above graph has zoomed in to display most of the data points.\n",
    "\n",
    "2. Another unique point occurs when the distance is zero. About 3.5K rides ended at the same position; The starting point is the same as the ending point. Since we cannot track the distance when the two points are the same, the above graph has set the starting ticks as 0.1 using the ``xlim`` method."
   ]
  },
  {
   "cell_type": "code",
   "execution_count": 99,
   "metadata": {},
   "outputs": [
    {
     "data": {
      "text/plain": [
       "3458"
      ]
     },
     "execution_count": 99,
     "metadata": {},
     "output_type": "execute_result"
    }
   ],
   "source": [
    "len(df.query(\"distance == 0\"))"
   ]
  },
  {
   "cell_type": "markdown",
   "metadata": {},
   "source": [
    "Three thousand four hundred fifty-eight rows are having a distance of zero."
   ]
  },
  {
   "cell_type": "markdown",
   "metadata": {},
   "source": [
    "### How long does the average trip take?"
   ]
  },
  {
   "cell_type": "code",
   "execution_count": 311,
   "metadata": {},
   "outputs": [
    {
     "data": {
      "image/png": "[encoded data removed]",
      "text/plain": [
       "<Figure size 720x432 with 1 Axes>"
      ]
     },
     "metadata": {
      "needs_background": "light"
     },
     "output_type": "display_data"
    }
   ],
   "source": [
    "plt.figure(figsize=[10, 6])\n",
    "\n",
    "bins = np.arange(60, df.duration_sec.max() + 60, 60)\n",
    "\n",
    "plt.hist(data=df, x='duration_sec', bins=bins)\n",
    "\n",
    "plt.xscale(\"log\")\n",
    "\n",
    "\n",
    "ticks = [60, 120, 180, 300, 480, 660, 1200, 1800, 3600]\n",
    "label = [1, 2, 3, 5, 8, 11, 20, 30, 60]\n",
    "plt.xticks(ticks, label)\n",
    "\n",
    "\n",
    "# add a vertical line for mean, and median\n",
    "mean = df.duration_sec.mean()\n",
    "med = df.duration_sec.median()\n",
    "plt.axvline(x=mean, color='k', linestyle='--', label=\"mean at {:.2f} minutes\".format(mean / 60))\n",
    "plt.axvline(x=med, color='k', linestyle='solid', label=\"median at {:.2f} minutes\".format(med / 60))\n",
    "\n",
    "plt.legend()\n",
    "\n",
    "plt.title(\"Duration of Bike Usages\")\n",
    "plt.xlabel(\"Minute (min)\")\n",
    "plt.ylabel(\"Count\")\n",
    "\n",
    "plt.show()"
   ]
  },
  {
   "cell_type": "markdown",
   "metadata": {},
   "source": [
    "We are interested in the average duration of a trip. There are two features related to the duration in the data frame: \n",
    "\n",
    "* ``duration_sec``: duration in seconds.\n",
    "* ``duration``: duration in hours.\n",
    "\n",
    "Since most trips are made in less than an hour, we will use the ``duration_sec`` feature. As shown in the figure, the distribution of the plot is right-skewed. The median suggested that half of the rides were done in no more than eight and half minutes."
   ]
  },
  {
   "cell_type": "markdown",
   "metadata": {},
   "source": [
    "### When are most trips taken in terms of the time of day ?"
   ]
  },
  {
   "cell_type": "code",
   "execution_count": 305,
   "metadata": {},
   "outputs": [
    {
     "data": {
      "image/png": "[encoded data removed]",
      "text/plain": [
       "<Figure size 720x432 with 1 Axes>"
      ]
     },
     "metadata": {
      "needs_background": "light"
     },
     "output_type": "display_data"
    }
   ],
   "source": [
    "plt.figure(figsize=[10, 6])\n",
    "\n",
    "bin_edges = np.arange(-0.5, 24.5 + 1, 1)\n",
    "\n",
    "plt.hist(df.start_time.dt.hour, bins=bin_edges, rwidth=0.75)\n",
    "\n",
    "xticks = np.arange(0, 24, 1)\n",
    "plt.xticks(xticks)\n",
    "\n",
    "plt.xlabel(\"Hour\")\n",
    "plt.ylabel(\"Count\")\n",
    "plt.title(\"Bike Usages in a Day\")\n",
    "\n",
    "plt.show()"
   ]
  },
  {
   "cell_type": "markdown",
   "metadata": {},
   "source": [
    "Time can either be **categorical** or **quantitative**, depending on our condition (hours, seasons, and years). Since we are interested in bike usages in terms of the day, we will group time in terms of hours. There are 24 hours in a day, and each hour is representing as a bar on the graph. \n",
    "\n",
    "As the graph shows, we had many rides at 8:00 am and 5:00 pm. In common sense, this is our commuter time. However, is the bike usages the same for weekday and weekend? "
   ]
  },
  {
   "cell_type": "code",
   "execution_count": 260,
   "metadata": {},
   "outputs": [
    {
     "data": {
      "image/png": "[encoded data removed]",
      "text/plain": [
       "<Figure size 720x432 with 1 Axes>"
      ]
     },
     "metadata": {
      "needs_background": "light"
     },
     "output_type": "display_data"
    }
   ],
   "source": [
    "plt.figure(figsize=[10, 6])\n",
    "\n",
    "base_color = sns.color_palette()[0]\n",
    "order = ['Monday', 'Tuesday', 'Wednesday', 'Thursday', 'Friday', 'Saturday', 'Sunday']\n",
    "\n",
    "sns.countplot(x=df.start_time.dt.day_name(), color=base_color, order=order)\n",
    "\n",
    "plt.xlabel(\"Weekday\")\n",
    "plt.ylabel(\"Count\")\n",
    "plt.title(\"Bike Usages in a Week\");"
   ]
  },
  {
   "cell_type": "markdown",
   "metadata": {},
   "source": [
    "Since weekday is an ordinal categorical variable, a bar chart was plotted above. People tend to use our bikes more on a weekday. "
   ]
  },
  {
   "cell_type": "markdown",
   "metadata": {},
   "source": [
    "## Bivariate Exploration\n",
    "\n",
    "> In this section, investigate relationships between pairs of variables in your\n",
    "data. Make sure the variables that you cover here have been introduced in some\n",
    "fashion in the previous section (univariate exploration)."
   ]
  },
  {
   "cell_type": "code",
   "execution_count": null,
   "metadata": {},
   "outputs": [],
   "source": []
  },
  {
   "cell_type": "markdown",
   "metadata": {},
   "source": [
    "### Talk about some of the relationships you observed in this part of the investigation. How did the feature(s) of interest vary with other features in the dataset?\n",
    "\n",
    "> Your answer here!\n",
    "\n",
    "### Did you observe any interesting relationships between the other features (not the main feature(s) of interest)?\n",
    "\n",
    "> Your answer here!"
   ]
  },
  {
   "cell_type": "markdown",
   "metadata": {},
   "source": [
    "## Multivariate Exploration\n",
    "\n",
    "> Create plots of three or more variables to investigate your data even\n",
    "further. Make sure that your investigations are justified, and follow from\n",
    "your work in the previous sections."
   ]
  },
  {
   "cell_type": "code",
   "execution_count": null,
   "metadata": {},
   "outputs": [],
   "source": []
  },
  {
   "cell_type": "markdown",
   "metadata": {},
   "source": [
    "### Talk about some of the relationships you observed in this part of the investigation. Were there features that strengthened each other in terms of looking at your feature(s) of interest?\n",
    "\n",
    "> Your answer here!\n",
    "\n",
    "### Were there any interesting or surprising interactions between features?\n",
    "\n",
    "> Your answer here!"
   ]
  },
  {
   "cell_type": "markdown",
   "metadata": {},
   "source": [
    "> At the end of your report, make sure that you export the notebook as an\n",
    "html file from the `File > Download as... > HTML` menu. Make sure you keep\n",
    "track of where the exported file goes, so you can put it in the same folder\n",
    "as this notebook for project submission. Also, make sure you remove all of\n",
    "the quote-formatted guide notes like this one before you finish your report!"
   ]
  },
  {
   "cell_type": "code",
   "execution_count": null,
   "metadata": {},
   "outputs": [],
   "source": []
  }
 ],
 "metadata": {
  "kernelspec": {
   "display_name": "Python 3",
   "language": "python",
   "name": "python3"
  },
  "language_info": {
   "codemirror_mode": {
    "name": "ipython",
    "version": 3
   },
   "file_extension": ".py",
   "mimetype": "text/x-python",
   "name": "python",
   "nbconvert_exporter": "python",
   "pygments_lexer": "ipython3",
   "version": "3.7.9"
  }
 },
 "nbformat": 4,
 "nbformat_minor": 2
}
